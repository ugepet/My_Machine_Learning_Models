{
 "cells": [
  {
   "cell_type": "code",
   "execution_count": 79,
   "metadata": {},
   "outputs": [],
   "source": [
    "#Import libraries\n",
    "import numpy as np \n",
    "import pandas as pd \n",
    "from sklearn import model_selection"
   ]
  },
  {
   "cell_type": "code",
   "execution_count": 124,
   "metadata": {},
   "outputs": [],
   "source": [
    "#Read data\n",
    "train_data = pd.read_csv(\"train.csv\")\n",
    "test_data = pd.read_csv(\"test.csv\")\n",
    "submission = pd.read_csv('sample_submission_new.csv')"
   ]
  },
  {
   "cell_type": "markdown",
   "metadata": {},
   "source": [
    "### Check for and replace missing values"
   ]
  },
  {
   "cell_type": "code",
   "execution_count": 128,
   "metadata": {},
   "outputs": [
    {
     "data": {
      "text/plain": [
       "(1459, 80)"
      ]
     },
     "execution_count": 128,
     "metadata": {},
     "output_type": "execute_result"
    }
   ],
   "source": [
    "test_data.shape"
   ]
  },
  {
   "cell_type": "code",
   "execution_count": 126,
   "metadata": {},
   "outputs": [],
   "source": [
    "#replace missing values in LotFrontage with the mean\n",
    "test_data['LotFrontage'].fillna(value=test_data.LotFrontage.mean(), inplace=True)\n",
    "\n",
    "#replace missing values in MasVnrArea with the mean\n",
    "test_data['MasVnrArea'].fillna(value=test_data.MasVnrArea.mean(), inplace=True)\n",
    "\n",
    "#replace missing values in other columns with the mode(Highest occuring value)\n",
    "test_data = test_data.apply(lambda x: x.fillna(x.value_counts().index[0]))"
   ]
  },
  {
   "cell_type": "code",
   "execution_count": 129,
   "metadata": {},
   "outputs": [],
   "source": [
    "#replace missing values in LotFrontage with the mean\n",
    "train_data['LotFrontage'].fillna(value=train_data.LotFrontage.mean(), inplace=True)\n",
    "\n",
    "#replace missing values in MasVnrArea with the mean\n",
    "train_data['MasVnrArea'].fillna(value=train_data.MasVnrArea.mean(), inplace=True)\n",
    "\n",
    "#replace missing values in other columns with the mode(Highest occuring value)\n",
    "train_data = train_data.apply(lambda x: x.fillna(x.value_counts().index[0]))"
   ]
  },
  {
   "cell_type": "markdown",
   "metadata": {},
   "source": [
    "### Creating Folds\n",
    "As shown below, let’s create a new column with the name kfold on the last column."
   ]
  },
  {
   "cell_type": "code",
   "execution_count": 130,
   "metadata": {},
   "outputs": [],
   "source": [
    "train_data['kfold'] = -1"
   ]
  },
  {
   "cell_type": "markdown",
   "metadata": {},
   "source": [
    "### Let's proceed to create 5 folds using the following code block:"
   ]
  },
  {
   "cell_type": "code",
   "execution_count": 131,
   "metadata": {},
   "outputs": [],
   "source": [
    "kf  = model_selection.KFold(n_splits= 5,shuffle = True, random_state=42)\n",
    "\n",
    "for fold, (train_indicies,valid_indicies)in enumerate(kf.split(X=train_data)):\n",
    "    train_data.loc[valid_indicies, \"kfold\"]=fold"
   ]
  },
  {
   "cell_type": "markdown",
   "metadata": {},
   "source": [
    "### After running the cell above, we will output the new csv file (train_kfolds.csv) with kfolds by running the code block below:"
   ]
  },
  {
   "cell_type": "code",
   "execution_count": 132,
   "metadata": {},
   "outputs": [],
   "source": [
    "train_data.to_csv('train_kfolds.csv', index=False)"
   ]
  },
  {
   "cell_type": "markdown",
   "metadata": {},
   "source": [
    "# Let's start building the regression Model"
   ]
  },
  {
   "cell_type": "code",
   "execution_count": 133,
   "metadata": {},
   "outputs": [],
   "source": [
    "#Read the new csv file (train_kfolds.csv)\n",
    "data = pd.read_csv('train_kfolds.csv')"
   ]
  },
  {
   "cell_type": "markdown",
   "metadata": {},
   "source": [
    "### Import libraries"
   ]
  },
  {
   "cell_type": "code",
   "execution_count": 134,
   "metadata": {},
   "outputs": [],
   "source": [
    "from  sklearn.preprocessing  import  OrdinalEncoder\n",
    "from  sklearn.model_selection  import  train_test_split\n",
    "from  sklearn.ensemble  import  RandomForestRegressor\n",
    "from sklearn.metrics import explained_variance_score\n",
    "from sklearn.metrics import mean_absolute_error\n",
    "from sklearn.metrics import mean_squared_error\n",
    "from sklearn.metrics import r2_score"
   ]
  },
  {
   "cell_type": "code",
   "execution_count": 11,
   "metadata": {},
   "outputs": [
    {
     "name": "stdout",
     "output_type": "stream",
     "text": [
      "Collecting xgboost\n",
      "  Downloading xgboost-1.6.1-py3-none-win_amd64.whl (125.4 MB)\n",
      "Requirement already satisfied: numpy in c:\\users\\frinict\\desktop\\datascience\\env\\lib\\site-packages (from xgboost) (1.19.1)\n",
      "Requirement already satisfied: scipy in c:\\users\\frinict\\desktop\\datascience\\env\\lib\\site-packages (from xgboost) (1.5.2)\n",
      "Installing collected packages: xgboost\n",
      "Successfully installed xgboost-1.6.1\n"
     ]
    }
   ],
   "source": [
    "import sys\n",
    "!{sys.executable} -m pip install xgboost"
   ]
  },
  {
   "cell_type": "code",
   "execution_count": 88,
   "metadata": {},
   "outputs": [],
   "source": [
    "import xgboost"
   ]
  },
  {
   "cell_type": "code",
   "execution_count": 135,
   "metadata": {},
   "outputs": [],
   "source": [
    "from  xgboost  import  XGBRegressor"
   ]
  },
  {
   "cell_type": "markdown",
   "metadata": {},
   "source": [
    "### Feature Selection"
   ]
  },
  {
   "cell_type": "code",
   "execution_count": 136,
   "metadata": {},
   "outputs": [],
   "source": [
    "#data.info()\n",
    "useful_features = [i for i in data.columns if i not in (\"Id\", \"SalePrice\",\"kfold\")]\n",
    "object_cols = [col for col in useful_features if \"cat\" in col]\n",
    "test_data = test_data[useful_features]"
   ]
  },
  {
   "cell_type": "code",
   "execution_count": 137,
   "metadata": {},
   "outputs": [],
   "source": [
    "xtrain = data[data.kfold != fold].reset_index(drop=True)\n",
    "xvalid = data[data.kfold == fold].reset_index(drop=True)\n",
    "xtest = test_data.copy()\n",
    "    \n",
    "ytrain = xtrain.SalePrice\n",
    "yvalid = xvalid.SalePrice\n",
    "    \n",
    "xtrain = xtrain[useful_features]\n",
    "xvalid = xvalid[useful_features]\n",
    "# Data Encoding \n",
    "#OneHot Encode the train data\n",
    "xtrain = pd.get_dummies(xtrain)\n",
    "#OneHot Encode the test and validation data\n",
    "xtest =pd.get_dummies(xtest)\n",
    "xvalid= pd.get_dummies(xvalid)\n",
    "#Reindex the test data to align with the number of columns in the train data\n",
    "xvalid = xvalid.reindex(columns=xtrain.columns, fill_value=0)\n",
    "xtest = xtest.reindex(columns=xtrain.columns, fill_value=0)"
   ]
  },
  {
   "cell_type": "code",
   "execution_count": 138,
   "metadata": {},
   "outputs": [
    {
     "data": {
      "text/plain": [
       "((1459, 285), (1168, 285), (292, 285))"
      ]
     },
     "execution_count": 138,
     "metadata": {},
     "output_type": "execute_result"
    }
   ],
   "source": [
    "xtest.shape, xtrain.shape, xvalid.shape"
   ]
  },
  {
   "cell_type": "code",
   "execution_count": 69,
   "metadata": {},
   "outputs": [
    {
     "data": {
      "text/html": [
       "<div>\n",
       "<style scoped>\n",
       "    .dataframe tbody tr th:only-of-type {\n",
       "        vertical-align: middle;\n",
       "    }\n",
       "\n",
       "    .dataframe tbody tr th {\n",
       "        vertical-align: top;\n",
       "    }\n",
       "\n",
       "    .dataframe thead th {\n",
       "        text-align: right;\n",
       "    }\n",
       "</style>\n",
       "<table border=\"1\" class=\"dataframe\">\n",
       "  <thead>\n",
       "    <tr style=\"text-align: right;\">\n",
       "      <th></th>\n",
       "      <th>MSSubClass</th>\n",
       "      <th>MSZoning</th>\n",
       "      <th>LotFrontage</th>\n",
       "      <th>LotArea</th>\n",
       "      <th>Street</th>\n",
       "      <th>Alley</th>\n",
       "      <th>LotShape</th>\n",
       "      <th>LandContour</th>\n",
       "      <th>Utilities</th>\n",
       "      <th>LotConfig</th>\n",
       "      <th>...</th>\n",
       "      <th>ScreenPorch</th>\n",
       "      <th>PoolArea</th>\n",
       "      <th>PoolQC</th>\n",
       "      <th>Fence</th>\n",
       "      <th>MiscFeature</th>\n",
       "      <th>MiscVal</th>\n",
       "      <th>MoSold</th>\n",
       "      <th>YrSold</th>\n",
       "      <th>SaleType</th>\n",
       "      <th>SaleCondition</th>\n",
       "    </tr>\n",
       "  </thead>\n",
       "  <tbody>\n",
       "    <tr>\n",
       "      <th>0</th>\n",
       "      <td>60</td>\n",
       "      <td>RL</td>\n",
       "      <td>65.0</td>\n",
       "      <td>8450</td>\n",
       "      <td>Pave</td>\n",
       "      <td>Grvl</td>\n",
       "      <td>Reg</td>\n",
       "      <td>Lvl</td>\n",
       "      <td>AllPub</td>\n",
       "      <td>Inside</td>\n",
       "      <td>...</td>\n",
       "      <td>0</td>\n",
       "      <td>0</td>\n",
       "      <td>Gd</td>\n",
       "      <td>MnPrv</td>\n",
       "      <td>Shed</td>\n",
       "      <td>0</td>\n",
       "      <td>2</td>\n",
       "      <td>2008</td>\n",
       "      <td>WD</td>\n",
       "      <td>Normal</td>\n",
       "    </tr>\n",
       "  </tbody>\n",
       "</table>\n",
       "<p>1 rows × 79 columns</p>\n",
       "</div>"
      ],
      "text/plain": [
       "   MSSubClass MSZoning  LotFrontage  LotArea Street Alley LotShape  \\\n",
       "0          60       RL         65.0     8450   Pave  Grvl      Reg   \n",
       "\n",
       "  LandContour Utilities LotConfig  ... ScreenPorch PoolArea PoolQC  Fence  \\\n",
       "0         Lvl    AllPub    Inside  ...           0        0     Gd  MnPrv   \n",
       "\n",
       "  MiscFeature MiscVal  MoSold  YrSold  SaleType  SaleCondition  \n",
       "0        Shed       0       2    2008        WD         Normal  \n",
       "\n",
       "[1 rows x 79 columns]"
      ]
     },
     "execution_count": 69,
     "metadata": {},
     "output_type": "execute_result"
    }
   ],
   "source": [
    "test_data.head(1)"
   ]
  },
  {
   "cell_type": "markdown",
   "metadata": {},
   "source": [
    "## Modeling\n",
    "Run the following lines of code to build our model"
   ]
  },
  {
   "cell_type": "code",
   "execution_count": 139,
   "metadata": {},
   "outputs": [
    {
     "name": "stdout",
     "output_type": "stream",
     "text": [
      "0 26347.049993725173\n",
      "1 29996.115037179654\n",
      "2 45282.17783459024\n",
      "3 27723.739590178844\n",
      "4 22498.84727409934\n"
     ]
    }
   ],
   "source": [
    "final_predictions =[]\n",
    "\n",
    "for fold in range(5):\n",
    "    xtrain = data[data.kfold != fold].reset_index(drop=True)\n",
    "    xvalid = data[data.kfold == fold].reset_index(drop=True)\n",
    "    xtest = test_data.copy()\n",
    "    \n",
    "    ytrain = xtrain.SalePrice\n",
    "    yvalid = xvalid.SalePrice\n",
    "    \n",
    "    \n",
    "    xtrain = xtrain[useful_features]\n",
    "    xvalid = xvalid[useful_features]\n",
    "    \n",
    "    # Data Encoding \n",
    "    #OneHot Encode the train data\n",
    "    xtrain = pd.get_dummies(xtrain)\n",
    "    #OneHot Encode the test and validation data\n",
    "    xtest =pd.get_dummies(xtest)\n",
    "    xvalid= pd.get_dummies(xvalid)\n",
    "    #Reindex the test data to align with the number of columns in the train data\n",
    "    xvalid = xvalid.reindex(columns=xtrain.columns, fill_value=0)\n",
    "    xtest = xtest.reindex(columns=xtrain.columns, fill_value=0)\n",
    "\n",
    "    \n",
    "    # Model Training\n",
    "    model = XGBRegressor(random_state = fold, n_jobs=5, learning_rate =0.1, subsample=0.8,\n",
    "                         max_depth = 5, min_child_weight = 1, gamma = 0, scale_pos_weight = 1)\n",
    "    model.fit(xtrain, ytrain)\n",
    "    preds_valid = model.predict(xvalid)\n",
    "    preds_test = model.predict(xtest)\n",
    "    final_predictions.append(preds_test)\n",
    "    print(fold, mean_squared_error(yvalid, preds_valid, squared=False))"
   ]
  },
  {
   "cell_type": "markdown",
   "metadata": {},
   "source": [
    "For each fold, we will encode the data and then train the model using XGBoost (Extreme Gradient Boosting), an ensemble learning technique to boost the performance of our model.\n",
    "\n",
    "XGBoost is a regularized boosting technique that provides high predictive power and is faster than other boosting techniques. We will then evaluate each fold individually and print out the results of the model."
   ]
  },
  {
   "cell_type": "markdown",
   "metadata": {},
   "source": [
    "## Model Evaluation\n",
    "After individually evaluating each fold, we will now evaluate our model’s performance by getting the mean predictions on our test data.\n",
    "\n",
    "To do this, use the following code block:"
   ]
  },
  {
   "cell_type": "code",
   "execution_count": 140,
   "metadata": {},
   "outputs": [],
   "source": [
    "preds = np.mean(np.column_stack(final_predictions), axis=1)"
   ]
  },
  {
   "cell_type": "markdown",
   "metadata": {},
   "source": [
    "To see how our model performed, we will output the results of our model’s prediction using the following code:"
   ]
  },
  {
   "cell_type": "code",
   "execution_count": 141,
   "metadata": {},
   "outputs": [],
   "source": [
    "submission.SalePrice =preds\n",
    "submission.to_csv(\"submission2.csv\", index=False)"
   ]
  },
  {
   "cell_type": "code",
   "execution_count": 142,
   "metadata": {},
   "outputs": [
    {
     "data": {
      "text/html": [
       "<div>\n",
       "<style scoped>\n",
       "    .dataframe tbody tr th:only-of-type {\n",
       "        vertical-align: middle;\n",
       "    }\n",
       "\n",
       "    .dataframe tbody tr th {\n",
       "        vertical-align: top;\n",
       "    }\n",
       "\n",
       "    .dataframe thead th {\n",
       "        text-align: right;\n",
       "    }\n",
       "</style>\n",
       "<table border=\"1\" class=\"dataframe\">\n",
       "  <thead>\n",
       "    <tr style=\"text-align: right;\">\n",
       "      <th></th>\n",
       "      <th>Id</th>\n",
       "      <th>SalePrice</th>\n",
       "    </tr>\n",
       "  </thead>\n",
       "  <tbody>\n",
       "    <tr>\n",
       "      <th>0</th>\n",
       "      <td>1461</td>\n",
       "      <td>127176.270</td>\n",
       "    </tr>\n",
       "    <tr>\n",
       "      <th>1</th>\n",
       "      <td>1462</td>\n",
       "      <td>160065.520</td>\n",
       "    </tr>\n",
       "    <tr>\n",
       "      <th>2</th>\n",
       "      <td>1463</td>\n",
       "      <td>180068.780</td>\n",
       "    </tr>\n",
       "    <tr>\n",
       "      <th>3</th>\n",
       "      <td>1464</td>\n",
       "      <td>189737.550</td>\n",
       "    </tr>\n",
       "    <tr>\n",
       "      <th>4</th>\n",
       "      <td>1465</td>\n",
       "      <td>190466.900</td>\n",
       "    </tr>\n",
       "    <tr>\n",
       "      <th>...</th>\n",
       "      <td>...</td>\n",
       "      <td>...</td>\n",
       "    </tr>\n",
       "    <tr>\n",
       "      <th>1454</th>\n",
       "      <td>2915</td>\n",
       "      <td>83397.450</td>\n",
       "    </tr>\n",
       "    <tr>\n",
       "      <th>1455</th>\n",
       "      <td>2916</td>\n",
       "      <td>83024.914</td>\n",
       "    </tr>\n",
       "    <tr>\n",
       "      <th>1456</th>\n",
       "      <td>2917</td>\n",
       "      <td>165247.580</td>\n",
       "    </tr>\n",
       "    <tr>\n",
       "      <th>1457</th>\n",
       "      <td>2918</td>\n",
       "      <td>120965.670</td>\n",
       "    </tr>\n",
       "    <tr>\n",
       "      <th>1458</th>\n",
       "      <td>2919</td>\n",
       "      <td>226581.920</td>\n",
       "    </tr>\n",
       "  </tbody>\n",
       "</table>\n",
       "<p>1459 rows × 2 columns</p>\n",
       "</div>"
      ],
      "text/plain": [
       "        Id   SalePrice\n",
       "0     1461  127176.270\n",
       "1     1462  160065.520\n",
       "2     1463  180068.780\n",
       "3     1464  189737.550\n",
       "4     1465  190466.900\n",
       "...    ...         ...\n",
       "1454  2915   83397.450\n",
       "1455  2916   83024.914\n",
       "1456  2917  165247.580\n",
       "1457  2918  120965.670\n",
       "1458  2919  226581.920\n",
       "\n",
       "[1459 rows x 2 columns]"
      ]
     },
     "execution_count": 142,
     "metadata": {},
     "output_type": "execute_result"
    }
   ],
   "source": [
    "sub = pd.read_csv(\"submission2.csv\")\n",
    "sub"
   ]
  },
  {
   "cell_type": "markdown",
   "metadata": {},
   "source": [
    "### Hyperparameter optimization\n",
    "\n",
    "In this process, we’ll fine-tune and optimize our model’s algorithm parameters until we achieve the desired result.\n",
    "\n",
    "A few common XGBoost parameters with a large effect on the model perfomance include; n_jobs, max_depth, learning_rate, n_estimators, colsample_bytree, and subsample.\n",
    "\n",
    "To fine-tune our model, add the following changes to the XGBoost regressor:"
   ]
  },
  {
   "cell_type": "code",
   "execution_count": null,
   "metadata": {},
   "outputs": [],
   "source": [
    "model = XGBRegressor(random_state = fold, n_jobs=5, learning_rate =0.1, subsample=0.8,\n",
    "                         max_depth = 5, min_child_weight = 1, gamma = 0, scale_pos_weight = 1)"
   ]
  }
 ],
 "metadata": {
  "kernelspec": {
   "display_name": "Python 3",
   "language": "python",
   "name": "python3"
  },
  "language_info": {
   "codemirror_mode": {
    "name": "ipython",
    "version": 3
   },
   "file_extension": ".py",
   "mimetype": "text/x-python",
   "name": "python",
   "nbconvert_exporter": "python",
   "pygments_lexer": "ipython3",
   "version": "3.7.9"
  }
 },
 "nbformat": 4,
 "nbformat_minor": 4
}
